{
 "cells": [
  {
   "cell_type": "markdown",
   "id": "dcf4cf9c-7551-481c-b05b-5be8bca1101d",
   "metadata": {},
   "source": [
    "Perform some SQL queries on data using pyspark SQL. "
   ]
  },
  {
   "cell_type": "code",
   "execution_count": 1,
   "id": "f42f65d0-95a2-42e8-a14f-f7a30bd9efa6",
   "metadata": {},
   "outputs": [],
   "source": [
    "import pyspark\n",
    "from pyspark.sql import SparkSession"
   ]
  },
  {
   "cell_type": "code",
   "execution_count": 2,
   "id": "2fbe5436-ca70-4d8a-9067-809e66fd4a7d",
   "metadata": {},
   "outputs": [
    {
     "name": "stderr",
     "output_type": "stream",
     "text": [
      "Setting default log level to \"WARN\".\n",
      "To adjust logging level use sc.setLogLevel(newLevel). For SparkR, use setLogLevel(newLevel).\n"
     ]
    },
    {
     "name": "stdout",
     "output_type": "stream",
     "text": [
      "25/03/08 20:12:35 WARN NativeCodeLoader: Unable to load native-hadoop library for your platform... using builtin-java classes where applicable\n",
      "25/03/08 20:12:36 WARN Utils: Service 'SparkUI' could not bind on port 4040. Attempting port 4041.\n"
     ]
    }
   ],
   "source": [
    "spark = SparkSession.builder \\\n",
    "    .master(\"local[*]\") \\\n",
    "    .appName('test') \\\n",
    "    .getOrCreate()"
   ]
  },
  {
   "cell_type": "markdown",
   "id": "5ca5b9e3-6858-43cf-8ddb-942c23402164",
   "metadata": {},
   "source": [
    "Import partitioned data from parquet "
   ]
  },
  {
   "cell_type": "code",
   "execution_count": 3,
   "id": "f2cff0d5-305e-48c2-9f5f-5a51ba1f7906",
   "metadata": {},
   "outputs": [
    {
     "name": "stderr",
     "output_type": "stream",
     "text": [
      "                                                                                \r"
     ]
    }
   ],
   "source": [
    "parquet_dir = \"./data/parquet/*\"\n",
    "oct_yellow_taxi_data = spark.read.parquet(parquet_dir)"
   ]
  },
  {
   "cell_type": "code",
   "execution_count": 8,
   "id": "ba7bbb30-4f02-4968-8989-b75bfe940c3c",
   "metadata": {},
   "outputs": [
    {
     "name": "stdout",
     "output_type": "stream",
     "text": [
      "+--------+--------------------+---------------------+---------------+-------------+----------+------------------+------------+------------+------------+-----------+-----+-------+----------+------------+---------------------+------------+--------------------+-----------+\n",
      "|VendorID|tpep_pickup_datetime|tpep_dropoff_datetime|passenger_count|trip_distance|RatecodeID|store_and_fwd_flag|PULocationID|DOLocationID|payment_type|fare_amount|extra|mta_tax|tip_amount|tolls_amount|improvement_surcharge|total_amount|congestion_surcharge|Airport_fee|\n",
      "+--------+--------------------+---------------------+---------------+-------------+----------+------------------+------------+------------+------------+-----------+-----+-------+----------+------------+---------------------+------------+--------------------+-----------+\n",
      "|       2| 2024-10-12 04:16:59|  2024-10-12 04:24:37|              2|         2.07|         1|                 N|         125|         100|           1|       10.7|  1.0|    0.5|       2.0|         0.0|                  1.0|        17.7|                 2.5|        0.0|\n",
      "|       2| 2024-10-11 23:59:07|  2024-10-12 00:24:29|              1|         6.04|         1|                 N|          79|         238|           1|       29.6|  1.0|    0.5|       3.0|         0.0|                  1.0|        37.6|                 2.5|        0.0|\n",
      "|       2| 2024-10-10 14:08:03|  2024-10-10 14:26:53|              1|         1.12|         1|                 N|         230|         141|           1|       16.3|  0.0|    0.5|      4.06|         0.0|                  1.0|       24.36|                 2.5|        0.0|\n",
      "|       2| 2024-10-03 22:22:07|  2024-10-03 22:26:50|              1|         1.51|         1|                 N|         229|         263|           1|        8.6|  1.0|    0.5|      2.72|         0.0|                  1.0|       16.32|                 2.5|        0.0|\n",
      "|       1| 2024-10-05 23:46:46|  2024-10-06 00:29:08|              2|          8.2|         1|                 N|         148|         188|           1|       42.2|  3.5|    0.5|      11.8|         0.0|                  1.0|        59.0|                 2.5|        0.0|\n",
      "|       2| 2024-10-15 00:43:57|  2024-10-15 00:45:14|              1|         0.29|         5|                 N|         138|         223|           1|       65.0|  5.0|    0.0|       0.0|         0.0|                  1.0|       72.75|                 0.0|       1.75|\n",
      "|       2| 2024-10-14 23:42:49|  2024-10-14 23:42:56|              1|         0.01|         2|                 N|          68|          68|           4|       70.0|  0.0|    0.5|       0.0|         0.0|                  1.0|        74.0|                 2.5|        0.0|\n",
      "|       2| 2024-10-12 22:25:19|  2024-10-12 22:48:40|              4|         3.83|         1|                 N|         237|         114|           1|       22.6|  1.0|    0.5|       5.0|         0.0|                  1.0|        32.6|                 2.5|        0.0|\n",
      "|       1| 2024-10-12 17:26:36|  2024-10-12 18:35:15|              1|         18.0|         2|                 N|         132|         186|           1|       70.0| 4.25|    0.5|     16.55|        6.94|                  1.0|       99.24|                 2.5|       1.75|\n",
      "|       1| 2024-10-10 14:09:32|  2024-10-10 14:18:16|              1|          0.9|         1|                 Y|          68|          90|           1|        7.9|  2.5|    0.5|      2.35|         0.0|                  1.0|       14.25|                 2.5|        0.0|\n",
      "|       2| 2024-10-11 15:58:35|  2024-10-11 16:09:33|              1|         1.49|         1|                 N|         113|          68|           1|       12.1|  0.0|    0.5|       1.5|         0.0|                  1.0|        17.6|                 2.5|        0.0|\n",
      "|       1| 2024-10-01 11:43:18|  2024-10-01 11:47:40|              1|          0.5|         1|                 N|         142|         239|           1|        5.8|  2.5|    0.5|      1.95|         0.0|                  1.0|       11.75|                 2.5|        0.0|\n",
      "|       2| 2024-10-05 14:04:12|  2024-10-05 14:31:41|              1|         3.61|         1|                 N|         262|         107|           1|       26.8|  0.0|    0.5|       4.0|         0.0|                  1.0|        34.8|                 2.5|        0.0|\n",
      "|       1| 2024-10-09 10:14:04|  2024-10-09 10:28:13|              1|          1.7|         1|                 N|         161|         234|           1|       12.8|  2.5|    0.5|      3.35|         0.0|                  1.0|       20.15|                 2.5|        0.0|\n",
      "|       2| 2024-10-04 17:08:38|  2024-10-04 18:03:10|              1|        17.42|         1|                 N|         132|          17|           1|       75.1|  2.5|    0.5|     19.77|         0.0|                  1.0|      100.62|                 0.0|       1.75|\n",
      "|       2| 2024-10-07 15:35:26|  2024-10-07 16:07:25|              3|         4.21|         1|                 N|         236|         113|           1|       29.6|  0.0|    0.5|      6.72|         0.0|                  1.0|       40.32|                 2.5|        0.0|\n",
      "|       1| 2024-10-10 23:54:30|  2024-10-11 00:04:48|              2|          1.1|         1|                 N|         162|          48|           1|       10.7|  3.5|    0.5|       1.0|         0.0|                  1.0|        16.7|                 2.5|        0.0|\n",
      "|       2| 2024-10-02 07:24:39|  2024-10-02 07:41:08|              1|          2.5|         1|                 N|         234|         143|           1|       17.0|  0.0|    0.5|       4.2|         0.0|                  1.0|        25.2|                 2.5|        0.0|\n",
      "|       1| 2024-10-08 17:00:53|  2024-10-08 17:38:09|              2|          4.9|         1|                 N|         230|          13|           1|       33.8|  5.0|    0.5|      8.06|         0.0|                  1.0|       48.36|                 2.5|        0.0|\n",
      "|       1| 2024-10-10 22:52:51|  2024-10-10 22:56:50|              1|          0.7|         1|                 N|         231|         211|           1|        6.5|  3.5|    0.5|       2.3|         0.0|                  1.0|        13.8|                 2.5|        0.0|\n",
      "+--------+--------------------+---------------------+---------------+-------------+----------+------------------+------------+------------+------------+-----------+-----+-------+----------+------------+---------------------+------------+--------------------+-----------+\n",
      "only showing top 20 rows\n",
      "\n"
     ]
    }
   ],
   "source": [
    "oct_yellow_taxi_data.show()"
   ]
  },
  {
   "cell_type": "markdown",
   "id": "4e971db9-0fdc-44dc-afc8-a78a22d27984",
   "metadata": {},
   "source": [
    "Question: How many taxi trips were there on the 15th of October?\n",
    "Consider only trips that started on the 15th of October."
   ]
  },
  {
   "cell_type": "code",
   "execution_count": 13,
   "id": "65c5093f-37d3-4a95-9bb5-a8e3dd938116",
   "metadata": {},
   "outputs": [],
   "source": [
    "sql_query = \"\"\"\n",
    "SELECT COUNT(*)\n",
    "FROM oct_yellow_taxi\n",
    "WHERE tpep_pickup_datetime >= \"2024-10-15 00:00\" AND tpep_pickup_datetime < \"2024-10-16 00:00\"\n",
    "\"\"\""
   ]
  },
  {
   "cell_type": "code",
   "execution_count": 14,
   "id": "1677adc7-e59b-4a1d-bf63-588e8f6079a7",
   "metadata": {},
   "outputs": [
    {
     "name": "stdout",
     "output_type": "stream",
     "text": [
      "+--------+\n",
      "|count(1)|\n",
      "+--------+\n",
      "|  128893|\n",
      "+--------+\n",
      "\n"
     ]
    }
   ],
   "source": [
    "oct_yellow_taxi_data.registerTempTable('oct_yellow_taxi')  # register the df as a SQL table \n",
    "spark.sql(sql_query).show()"
   ]
  },
  {
   "cell_type": "markdown",
   "id": "1cdb9c73-7829-428a-9fc8-848526058646",
   "metadata": {},
   "source": [
    "sanity check - count total number of taxi rides in oct 2024 "
   ]
  },
  {
   "cell_type": "code",
   "execution_count": 16,
   "id": "54e27a0a-67cc-44d6-9ec9-be8b50ecd2c1",
   "metadata": {},
   "outputs": [
    {
     "name": "stdout",
     "output_type": "stream",
     "text": [
      "+--------+\n",
      "|count(1)|\n",
      "+--------+\n",
      "| 3833771|\n",
      "+--------+\n",
      "\n"
     ]
    }
   ],
   "source": [
    "sql_query = \"\"\"\n",
    "SELECT COUNT(*)\n",
    "FROM oct_yellow_taxi\n",
    "\"\"\"\n",
    "spark.sql(sql_query).show()"
   ]
  },
  {
   "cell_type": "markdown",
   "id": "0e940438-5c08-420a-a5f8-8568a664b01e",
   "metadata": {},
   "source": [
    "What is the length of the longest trip in the dataset in hours?"
   ]
  },
  {
   "cell_type": "code",
   "execution_count": 22,
   "id": "7b19de93-0a03-4fc8-93f8-7d98de2839b7",
   "metadata": {},
   "outputs": [
    {
     "name": "stderr",
     "output_type": "stream",
     "text": [
      "[Stage 19:>                                                         (0 + 2) / 2]\r"
     ]
    },
    {
     "name": "stdout",
     "output_type": "stream",
     "text": [
      "+------------------+\n",
      "|    total_time_hrs|\n",
      "+------------------+\n",
      "|162.61777777777777|\n",
      "|           143.325|\n",
      "|137.76055555555556|\n",
      "|114.83472222222223|\n",
      "| 89.89833333333333|\n",
      "+------------------+\n",
      "\n"
     ]
    },
    {
     "name": "stderr",
     "output_type": "stream",
     "text": [
      "                                                                                \r"
     ]
    }
   ],
   "source": [
    "# unix_timestamp() returns the seconds from a unix-epoch time (jan 1 1970). \n",
    "# Then, subtracting gives us the seconds between pickup and dropoff and just needs conversion from seconds -> hours \n",
    "\n",
    "sql_query = \"\"\"\n",
    "WITH oct_taxi_total_time AS (\n",
    "    SELECT (unix_timestamp(tpep_dropoff_datetime) - unix_timestamp(tpep_pickup_datetime)) / 3600  AS total_time_hrs\n",
    "    FROM oct_yellow_taxi\n",
    ")\n",
    "SELECT total_time_hrs \n",
    "FROM oct_taxi_total_time\n",
    "ORDER BY total_time_hrs DESC \n",
    "LIMIT 5 \n",
    "\"\"\"\n",
    "spark.sql(sql_query).show()"
   ]
  },
  {
   "cell_type": "markdown",
   "id": "e2930d69-c39f-44d8-a745-6a2d6526a2b0",
   "metadata": {},
   "source": [
    "What is the name of the LEAST frequent pickup location Zone?"
   ]
  },
  {
   "cell_type": "code",
   "execution_count": 23,
   "id": "75ae216a-cdcf-42b9-bb5a-b5b6178b9bae",
   "metadata": {},
   "outputs": [
    {
     "name": "stdout",
     "output_type": "stream",
     "text": [
      "--2025-03-08 20:36:30--  https://d37ci6vzurychx.cloudfront.net/misc/taxi_zone_lookup.csv\n",
      "Resolving d37ci6vzurychx.cloudfront.net (d37ci6vzurychx.cloudfront.net)... 54.230.209.72, 54.230.209.126, 54.230.209.200, ...\n",
      "Connecting to d37ci6vzurychx.cloudfront.net (d37ci6vzurychx.cloudfront.net)|54.230.209.72|:443... connected.\n",
      "HTTP request sent, awaiting response... 200 OK\n",
      "Length: 12331 (12K) [text/csv]\n",
      "Saving to: ‘./data/taxi_zone_lookup.csv’\n",
      "\n",
      "./data/taxi_zone_lo 100%[===================>]  12.04K  --.-KB/s    in 0s      \n",
      "\n",
      "2025-03-08 20:36:31 (162 MB/s) - ‘./data/taxi_zone_lookup.csv’ saved [12331/12331]\n",
      "\n"
     ]
    }
   ],
   "source": [
    "data_dir = \"./data/taxi_zone_lookup.csv\"\n",
    "!wget https://d37ci6vzurychx.cloudfront.net/misc/taxi_zone_lookup.csv -O $data_dir"
   ]
  },
  {
   "cell_type": "code",
   "execution_count": 27,
   "id": "091f25bd-6583-4922-bb51-8b9d55a4a509",
   "metadata": {},
   "outputs": [
    {
     "name": "stdout",
     "output_type": "stream",
     "text": [
      "+----------+-------------+--------------------+------------+\n",
      "|LocationID|      Borough|                Zone|service_zone|\n",
      "+----------+-------------+--------------------+------------+\n",
      "|         1|          EWR|      Newark Airport|         EWR|\n",
      "|         2|       Queens|         Jamaica Bay|   Boro Zone|\n",
      "|         3|        Bronx|Allerton/Pelham G...|   Boro Zone|\n",
      "|         4|    Manhattan|       Alphabet City| Yellow Zone|\n",
      "|         5|Staten Island|       Arden Heights|   Boro Zone|\n",
      "|         6|Staten Island|Arrochar/Fort Wad...|   Boro Zone|\n",
      "|         7|       Queens|             Astoria|   Boro Zone|\n",
      "|         8|       Queens|        Astoria Park|   Boro Zone|\n",
      "|         9|       Queens|          Auburndale|   Boro Zone|\n",
      "|        10|       Queens|        Baisley Park|   Boro Zone|\n",
      "|        11|     Brooklyn|          Bath Beach|   Boro Zone|\n",
      "|        12|    Manhattan|        Battery Park| Yellow Zone|\n",
      "|        13|    Manhattan|   Battery Park City| Yellow Zone|\n",
      "|        14|     Brooklyn|           Bay Ridge|   Boro Zone|\n",
      "|        15|       Queens|Bay Terrace/Fort ...|   Boro Zone|\n",
      "|        16|       Queens|             Bayside|   Boro Zone|\n",
      "|        17|     Brooklyn|             Bedford|   Boro Zone|\n",
      "|        18|        Bronx|        Bedford Park|   Boro Zone|\n",
      "|        19|       Queens|           Bellerose|   Boro Zone|\n",
      "|        20|        Bronx|             Belmont|   Boro Zone|\n",
      "+----------+-------------+--------------------+------------+\n",
      "only showing top 20 rows\n",
      "\n"
     ]
    }
   ],
   "source": [
    "# read dataframe and show first few rows\n",
    "zone_data_df = spark.read \\\n",
    "    .option(\"header\", \"true\") \\\n",
    "    .option(\"inferSchema\", \"true\") \\\n",
    "    .csv(data_dir)\n",
    "zone_data_df.show()\n",
    "\n",
    "# register the zone data df as a SQL table \n",
    "zone_data_df.registerTempTable('zone_data')  "
   ]
  },
  {
   "cell_type": "code",
   "execution_count": 40,
   "id": "22d42af2-6a42-4dca-9daa-7eb733bacc8f",
   "metadata": {},
   "outputs": [],
   "source": [
    "sql_query = \"\"\"\n",
    "SELECT COUNT(*), zone_data.Zone\n",
    "FROM oct_yellow_taxi \n",
    "JOIN zone_data\n",
    "ON zone_data.LocationID = oct_yellow_taxi.PULocationID\n",
    "GROUP BY zone_data.Zone\n",
    "ORDER BY COUNT(*) ASC\n",
    "\"\"\""
   ]
  },
  {
   "cell_type": "code",
   "execution_count": 41,
   "id": "19a54ed5-732d-473f-897d-039487800d17",
   "metadata": {},
   "outputs": [
    {
     "name": "stderr",
     "output_type": "stream",
     "text": [
      "[Stage 41:=============================>                            (1 + 1) / 2]\r"
     ]
    },
    {
     "name": "stdout",
     "output_type": "stream",
     "text": [
      "+--------+--------------------+\n",
      "|count(1)|                Zone|\n",
      "+--------+--------------------+\n",
      "|       1|Governor's Island...|\n",
      "|       2|       Arden Heights|\n",
      "|       2|       Rikers Island|\n",
      "|       3|         Jamaica Bay|\n",
      "|       3| Green-Wood Cemetery|\n",
      "|       4|Charleston/Totten...|\n",
      "|       4|Eltingville/Annad...|\n",
      "|       4|   Rossville/Woodrow|\n",
      "|       4|       Port Richmond|\n",
      "|       4|       West Brighton|\n",
      "|       6|        Crotona Park|\n",
      "|       6|         Great Kills|\n",
      "|       7|Heartland Village...|\n",
      "|       7|     Mariners Harbor|\n",
      "|       9|Saint George/New ...|\n",
      "|       9|             Oakwood|\n",
      "|      10|New Dorp/Midland ...|\n",
      "|      10|       Broad Channel|\n",
      "|      12|         Westerleigh|\n",
      "|      12|     Pelham Bay Park|\n",
      "+--------+--------------------+\n",
      "only showing top 20 rows\n",
      "\n"
     ]
    },
    {
     "name": "stderr",
     "output_type": "stream",
     "text": [
      "                                                                                \r"
     ]
    }
   ],
   "source": [
    "spark.sql(sql_query).show()"
   ]
  },
  {
   "cell_type": "code",
   "execution_count": null,
   "id": "d476ed30-9fc2-421f-b35c-83dfb89ca746",
   "metadata": {},
   "outputs": [],
   "source": []
  }
 ],
 "metadata": {
  "kernelspec": {
   "display_name": "Python 3 (ipykernel)",
   "language": "python",
   "name": "python3"
  },
  "language_info": {
   "codemirror_mode": {
    "name": "ipython",
    "version": 3
   },
   "file_extension": ".py",
   "mimetype": "text/x-python",
   "name": "python",
   "nbconvert_exporter": "python",
   "pygments_lexer": "ipython3",
   "version": "3.12.2"
  }
 },
 "nbformat": 4,
 "nbformat_minor": 5
}
