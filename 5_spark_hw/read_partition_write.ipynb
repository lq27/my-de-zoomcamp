{
 "cells": [
  {
   "cell_type": "markdown",
   "id": "03c50917-34c0-4d3e-b021-0dc81293724d",
   "metadata": {},
   "source": [
    "Reads a parquet file, repartitions it, and writes partitions to parquet files.\n",
    "Gets the file size of a single parquet file (hardcoded)"
   ]
  },
  {
   "cell_type": "code",
   "execution_count": 2,
   "id": "a6625d5d-4967-4db1-af88-d94d7a7b6f08",
   "metadata": {},
   "outputs": [],
   "source": [
    "import pyspark\n",
    "from pyspark.sql import SparkSession"
   ]
  },
  {
   "cell_type": "code",
   "execution_count": 12,
   "id": "fb9feea4-5618-46b5-b026-a106d0b2d288",
   "metadata": {},
   "outputs": [
    {
     "name": "stdout",
     "output_type": "stream",
     "text": [
      "--2025-03-08 19:54:48--  https://d37ci6vzurychx.cloudfront.net/trip-data/yellow_tripdata_2024-10.parquet\n",
      "Resolving d37ci6vzurychx.cloudfront.net (d37ci6vzurychx.cloudfront.net)... 54.230.209.72, 54.230.209.140, 54.230.209.200, ...\n",
      "Connecting to d37ci6vzurychx.cloudfront.net (d37ci6vzurychx.cloudfront.net)|54.230.209.72|:443... connected.\n",
      "HTTP request sent, awaiting response... 200 OK\n",
      "Length: 64346071 (61M) [binary/octet-stream]\n",
      "Saving to: ‘./data/yellow_tripdata_2024-10.parquet’\n",
      "\n",
      "./data/yellow_tripd 100%[===================>]  61.36M   159MB/s    in 0.4s    \n",
      "\n",
      "2025-03-08 19:54:49 (159 MB/s) - ‘./data/yellow_tripdata_2024-10.parquet’ saved [64346071/64346071]\n",
      "\n",
      "254534 ./data/yellow_tripdata_2024-10.parquet\n"
     ]
    }
   ],
   "source": [
    "data_dir = \"./data/yellow_tripdata_2024-10.parquet\"\n",
    "!wget https://d37ci6vzurychx.cloudfront.net/trip-data/yellow_tripdata_2024-10.parquet -O $data_dir # download oct 2024 data from the official source"
   ]
  },
  {
   "cell_type": "code",
   "execution_count": 13,
   "id": "7e44858a-7d9f-4f57-b77c-e610f79188bb",
   "metadata": {},
   "outputs": [
    {
     "name": "stderr",
     "output_type": "stream",
     "text": [
      "Setting default log level to \"WARN\".\n",
      "To adjust logging level use sc.setLogLevel(newLevel). For SparkR, use setLogLevel(newLevel).\n"
     ]
    },
    {
     "name": "stdout",
     "output_type": "stream",
     "text": [
      "25/03/08 19:55:24 WARN NativeCodeLoader: Unable to load native-hadoop library for your platform... using builtin-java classes where applicable\n"
     ]
    }
   ],
   "source": [
    "spark = SparkSession.builder \\\n",
    "    .master(\"local[*]\") \\\n",
    "    .appName('test') \\\n",
    "    .getOrCreate()"
   ]
  },
  {
   "cell_type": "code",
   "execution_count": 17,
   "id": "a668a46b-67f5-49ee-b313-f3c0d8349753",
   "metadata": {},
   "outputs": [
    {
     "data": {
      "text/plain": [
       "StructType([StructField('VendorID', IntegerType(), True), StructField('tpep_pickup_datetime', TimestampType(), True), StructField('tpep_dropoff_datetime', TimestampType(), True), StructField('passenger_count', LongType(), True), StructField('trip_distance', DoubleType(), True), StructField('RatecodeID', LongType(), True), StructField('store_and_fwd_flag', StringType(), True), StructField('PULocationID', IntegerType(), True), StructField('DOLocationID', IntegerType(), True), StructField('payment_type', LongType(), True), StructField('fare_amount', DoubleType(), True), StructField('extra', DoubleType(), True), StructField('mta_tax', DoubleType(), True), StructField('tip_amount', DoubleType(), True), StructField('tolls_amount', DoubleType(), True), StructField('improvement_surcharge', DoubleType(), True), StructField('total_amount', DoubleType(), True), StructField('congestion_surcharge', DoubleType(), True), StructField('Airport_fee', DoubleType(), True)])"
      ]
     },
     "execution_count": 17,
     "metadata": {},
     "output_type": "execute_result"
    }
   ],
   "source": [
    "# read dataframe and show schema\n",
    "df = spark.read \\\n",
    "    .option(\"header\", \"true\") \\\n",
    "    .option(\"inferSchema\", \"true\") \\\n",
    "    .parquet(data_dir)\n",
    "df.schema"
   ]
  },
  {
   "cell_type": "code",
   "execution_count": 19,
   "id": "4782b921-533b-40cb-a2d5-76b2064bf078",
   "metadata": {},
   "outputs": [],
   "source": [
    "num_p = 4\n",
    "df = df.repartition(num_p)"
   ]
  },
  {
   "cell_type": "code",
   "execution_count": 20,
   "id": "7d717309-9bb7-4740-897b-f596de464662",
   "metadata": {},
   "outputs": [
    {
     "name": "stderr",
     "output_type": "stream",
     "text": [
      "                                                                                \r"
     ]
    }
   ],
   "source": [
    "parquet_dir = \"./data/parquet/\"\n",
    "df.write.parquet(parquet_dir)"
   ]
  },
  {
   "cell_type": "code",
   "execution_count": 25,
   "id": "b82203ce-ec99-4a10-90f1-f29d7e8ac8b7",
   "metadata": {},
   "outputs": [
    {
     "name": "stdout",
     "output_type": "stream",
     "text": [
      " 24.88 MB\n"
     ]
    }
   ],
   "source": [
    "import os\n",
    "parquet_fpath = \"./data/parquet/part-00000-09836a4e-cd38-4e5f-aa2f-82cb68c978c6-c000.snappy.parquet\"\n",
    "print(f\"{os.path.getsize(parquet_fpath) / 1024 / 1024: .2f} MB\")"
   ]
  },
  {
   "cell_type": "code",
   "execution_count": null,
   "id": "8a83b648-bc8e-4918-8abf-de80e655436b",
   "metadata": {},
   "outputs": [],
   "source": []
  }
 ],
 "metadata": {
  "kernelspec": {
   "display_name": "Python 3 (ipykernel)",
   "language": "python",
   "name": "python3"
  },
  "language_info": {
   "codemirror_mode": {
    "name": "ipython",
    "version": 3
   },
   "file_extension": ".py",
   "mimetype": "text/x-python",
   "name": "python",
   "nbconvert_exporter": "python",
   "pygments_lexer": "ipython3",
   "version": "3.12.2"
  }
 },
 "nbformat": 4,
 "nbformat_minor": 5
}
